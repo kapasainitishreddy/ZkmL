{
  "cells": [
    {
      "cell_type": "markdown",
      "id": "cf69bb3f-94e6-4dba-92cd-ce08df117d67",
      "metadata": {
        "id": "cf69bb3f-94e6-4dba-92cd-ce08df117d67"
      },
      "source": [
        "## Linear Regression\n",
        "\n",
        "\n",
        "\n",
        "Sklearn based models are slightly finicky to get into a suitable onnx format.\n",
        "This notebook showcases how to do so using the `hummingbird-ml` python package !"
      ]
    },
    {
      "cell_type": "code",
      "execution_count": 23,
      "id": "95613ee9",
      "metadata": {
        "id": "95613ee9"
      },
      "outputs": [],
      "source": [
        "# check if notebook is in colab\n",
        "try:\n",
        "    # install ezkl\n",
        "    import google.colab\n",
        "    import subprocess\n",
        "    import sys\n",
        "    subprocess.check_call([sys.executable, \"-m\", \"pip\", \"install\", \"ezkl\"]) #subprocess.check_call is used to execute shell commands in Python.\n",
        "    subprocess.check_call([sys.executable, \"-m\", \"pip\", \"install\", \"onnx\"])\n",
        "    subprocess.check_call([sys.executable, \"-m\", \"pip\", \"install\", \"hummingbird-ml\"])\n",
        "\n",
        "# rely on local installation of ezkl if the notebook is not in colab\n",
        "except:\n",
        "    pass\n",
        "\n",
        "import os\n",
        "import torch\n",
        "import ezkl # A library for zero-knowledge proof (ZKP) operations.\n",
        "import json\n",
        "from hummingbird.ml import convert #Provides tools to convert machine learning models into different formats.\n",
        "\n",
        "\n",
        "# here we create and (potentially train a model)\n",
        "\n",
        "# make sure you have the dependencies required here already installed\n",
        "import numpy as np\n",
        "from sklearn.linear_model import LinearRegression\n",
        "X = np.array([[1, 1], [1, 2], [2, 2], [2, 3]])\n",
        "# y = 1 * x_0 + 2 * x_1 + 3\n",
        "y = np.dot(X, np.array([1, 2])) + 3\n",
        "reg = LinearRegression().fit(X, y)\n",
        "reg.score(X, y)\n",
        "\n",
        "circuit = convert(reg, \"torch\", X[:1]).model #The convert function from hummingbird.ml is used to convert a scikit-learn model (reg) into a format compatible with PyTorch.\n",
        "\n",
        "\n",
        "\n",
        "\n"
      ]
    },
    {
      "cell_type": "code",
      "execution_count": 24,
      "id": "b37637c4",
      "metadata": {
        "id": "b37637c4"
      },
      "outputs": [],
      "source": [
        "model_path = os.path.join('network.onnx')\n",
        "compiled_model_path = os.path.join('network.compiled')\n",
        "pk_path = os.path.join('test.pk')\n",
        "vk_path = os.path.join('test.vk')\n",
        "settings_path = os.path.join('settings.json')\n",
        "\n",
        "witness_path = os.path.join('witness.json')\n",
        "data_path = os.path.join('input.json')"
      ]
    },
    {
      "cell_type": "code",
      "execution_count": 25,
      "id": "82db373a",
      "metadata": {
        "id": "82db373a"
      },
      "outputs": [],
      "source": [
        "\n",
        "\n",
        "# export to onnx format\n",
        "# !!!!!!!!!!!!!!!!! This will flash a warning but it is fine !!!!!!!!!!!!!!!!!!!!!\n",
        "#Exports the PyTorch model to the ONNX format.\n",
        "# Input to the model\n",
        "shape = X.shape[1:]\n",
        "x = torch.rand(1, *shape, requires_grad=True)\n",
        "torch_out = circuit(x)\n",
        "# Export the model\n",
        "torch.onnx.export(circuit,               # model being run\n",
        "                  # model input (or a tuple for multiple inputs)\n",
        "                  x,\n",
        "                  # where to save the model (can be a file or file-like object)\n",
        "                  \"network.onnx\",\n",
        "                  export_params=True,        # store the trained parameter weights inside the model file\n",
        "                  opset_version=10,          # the ONNX version to export the model to\n",
        "                  do_constant_folding=True,  # whether to execute constant folding for optimization\n",
        "                  input_names=['input'],   # the model's input names\n",
        "                  output_names=['output'],  # the model's output names\n",
        "                  dynamic_axes={'input': {0: 'batch_size'},    # variable length axes\n",
        "                                'output': {0: 'batch_size'}})\n",
        "\n",
        "d = ((x).detach().numpy()).reshape([-1]).tolist()\n",
        "\n",
        "data = dict(input_shapes=[shape],\n",
        "            input_data=[d],\n",
        "            output_data=[((o).detach().numpy()).reshape([-1]).tolist() for o in torch_out])\n",
        "\n",
        "# Serialize data into file:\n",
        "json.dump(data, open(\"input.json\", 'w'))\n"
      ]
    },
    {
      "cell_type": "code",
      "execution_count": 26,
      "id": "d5e374a2",
      "metadata": {
        "id": "d5e374a2"
      },
      "outputs": [],
      "source": [
        "!RUST_LOG=trace\n",
        "# TODO: Dictionary outputs\n",
        "res = ezkl.gen_settings(model_path, settings_path)\n",
        "assert res == True\n"
      ]
    },
    {
      "cell_type": "code",
      "execution_count": 27,
      "metadata": {
        "colab": {
          "base_uri": "https://localhost:8080/"
        },
        "id": "40C6ZRSwne1t",
        "outputId": "049c5baf-a6af-43e5-f28c-b67e66c2aee3"
      },
      "outputs": [
        {
          "output_type": "stream",
          "name": "stderr",
          "text": [
            "WARNING:ezkl.circuit.table:Using 2 columns for non-linearity table.\n",
            "WARNING:ezkl.circuit.table:Using 3 columns for non-linearity table.\n",
            "WARNING:ezkl.circuit.table:Using 3 columns for non-linearity table.\n",
            "WARNING:ezkl.circuit.table:Using 2 columns for non-linearity table.\n",
            "WARNING:ezkl.circuit.table:Using 3 columns for non-linearity table.\n",
            "WARNING:ezkl.circuit.table:Using 3 columns for non-linearity table.\n",
            "WARNING:ezkl.circuit.table:Using 3 columns for non-linearity table.\n",
            "WARNING:ezkl.circuit.table:Using 5 columns for non-linearity table.\n",
            "WARNING:ezkl.circuit.table:Using 5 columns for non-linearity table.\n",
            "WARNING:ezkl.circuit.table:Using 5 columns for non-linearity table.\n",
            "WARNING:ezkl.circuit.table:Using 9 columns for non-linearity table.\n",
            "WARNING:ezkl.execute:\n",
            "\n",
            " <------------- Numerical Fidelity Report (input_scale: 13, param_scale: 13, scale_input_multiplier: 10) ------------->\n",
            "\n",
            "+-----------------+-----------------+-----------------+-----------------+----------------+------------------+----------------+----------------+--------------------+--------------------+------------------------+\n",
            "| mean_error      | median_error    | max_error       | min_error       | mean_abs_error | median_abs_error | max_abs_error  | min_abs_error  | mean_squared_error | mean_percent_error | mean_abs_percent_error |\n",
            "+-----------------+-----------------+-----------------+-----------------+----------------+------------------+----------------+----------------+--------------------+--------------------+------------------------+\n",
            "| -0.000023841858 | -0.000023841858 | -0.000023841858 | -0.000023841858 | 0.000023841858 | 0.000023841858   | 0.000023841858 | 0.000023841858 | 0.0000000005684342 | -0.0000045569022   | 0.0000045569022        |\n",
            "+-----------------+-----------------+-----------------+-----------------+----------------+------------------+----------------+----------------+--------------------+--------------------+------------------------+\n",
            "\n",
            "\n"
          ]
        }
      ],
      "source": [
        "cal_path = os.path.join(\"calibration.json\")\n",
        "\n",
        "data_array = (torch.randn(20, *shape).detach().numpy()).reshape([-1]).tolist()\n",
        "\n",
        "data = dict(input_data = [data_array])\n",
        "\n",
        "# Serialize data into file:\n",
        "json.dump(data, open(cal_path, 'w'))\n",
        "\n",
        "res = await ezkl.calibrate_settings(data_path, model_path, settings_path, \"resources\")\n",
        "assert res == True\n"
      ],
      "id": "40C6ZRSwne1t"
    },
    {
      "cell_type": "code",
      "execution_count": 28,
      "id": "3aa4f090",
      "metadata": {
        "id": "3aa4f090"
      },
      "outputs": [],
      "source": [
        "res = ezkl.compile_circuit(model_path, compiled_model_path, settings_path)\n",
        "assert res == True"
      ]
    },
    {
      "cell_type": "code",
      "execution_count": 29,
      "id": "8b74dcee",
      "metadata": {
        "id": "8b74dcee"
      },
      "outputs": [],
      "source": [
        "# srs path\n",
        "res = await ezkl.get_srs( settings_path)"
      ]
    },
    {
      "cell_type": "code",
      "execution_count": 30,
      "id": "18c8b7c7",
      "metadata": {
        "id": "18c8b7c7"
      },
      "outputs": [],
      "source": [
        "# now generate the witness file\n",
        "\n",
        "res = await ezkl.gen_witness(data_path, compiled_model_path, witness_path)\n",
        "assert os.path.isfile(witness_path)"
      ]
    },
    {
      "cell_type": "code",
      "execution_count": 31,
      "id": "b1c561a8",
      "metadata": {
        "id": "b1c561a8"
      },
      "outputs": [],
      "source": [
        "\n",
        "# HERE WE SETUP THE CIRCUIT PARAMS\n",
        "# WE GOT KEYS\n",
        "# WE GOT CIRCUIT PARAMETERS\n",
        "# EVERYTHING ANYONE HAS EVER NEEDED FOR ZK\n",
        "\n",
        "\n",
        "\n",
        "res = ezkl.setup(\n",
        "        compiled_model_path,\n",
        "        vk_path,\n",
        "        pk_path,\n",
        "\n",
        "    )\n",
        "\n",
        "assert res == True\n",
        "assert os.path.isfile(vk_path)\n",
        "assert os.path.isfile(pk_path)\n",
        "assert os.path.isfile(settings_path)"
      ]
    },
    {
      "cell_type": "code",
      "execution_count": 32,
      "id": "c384cbc8",
      "metadata": {
        "colab": {
          "base_uri": "https://localhost:8080/"
        },
        "id": "c384cbc8",
        "outputId": "57705d94-2447-47a8-d215-2f5388cec79d"
      },
      "outputs": [
        {
          "output_type": "stream",
          "name": "stdout",
          "text": [
            "{'instances': [['00a0ed1400000000000000000000000000000000000000000000000000000000']], 'proof': '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', 'transcript_type': 'EVM'}\n"
          ]
        }
      ],
      "source": [
        "# GENERATE A PROOF\n",
        "\n",
        "\n",
        "proof_path = os.path.join('test.pf')\n",
        "\n",
        "res = ezkl.prove(\n",
        "        witness_path,\n",
        "        compiled_model_path,\n",
        "        pk_path,\n",
        "        proof_path,\n",
        "\n",
        "        \"single\",\n",
        "    )\n",
        "\n",
        "print(res)\n",
        "assert os.path.isfile(proof_path)"
      ]
    },
    {
      "cell_type": "code",
      "execution_count": 33,
      "id": "76f00d41",
      "metadata": {
        "colab": {
          "base_uri": "https://localhost:8080/"
        },
        "id": "76f00d41",
        "outputId": "bad2db27-4377-495a-d510-fc4aac033a97"
      },
      "outputs": [
        {
          "output_type": "stream",
          "name": "stdout",
          "text": [
            "verified\n"
          ]
        }
      ],
      "source": [
        "# VERIFY IT\n",
        "\n",
        "res = ezkl.verify(\n",
        "        proof_path,\n",
        "        settings_path,\n",
        "        vk_path,\n",
        "\n",
        "    )\n",
        "\n",
        "assert res == True\n",
        "print(\"verified\")"
      ]
    }
  ],
  "metadata": {
    "kernelspec": {
      "display_name": "Python 3 (ipykernel)",
      "language": "python",
      "name": "python3"
    },
    "language_info": {
      "codemirror_mode": {
        "name": "ipython",
        "version": 3
      },
      "file_extension": ".py",
      "mimetype": "text/x-python",
      "name": "python",
      "nbconvert_exporter": "python",
      "pygments_lexer": "ipython3",
      "version": "3.9.15"
    },
    "colab": {
      "provenance": []
    }
  },
  "nbformat": 4,
  "nbformat_minor": 5
}